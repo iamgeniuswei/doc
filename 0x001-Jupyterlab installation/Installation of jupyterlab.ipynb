{
 "cells": [
  {
   "cell_type": "markdown",
   "metadata": {},
   "source": [
    "# jupyterlab 安装与配置"
   ]
  },
  {
   "cell_type": "markdown",
   "metadata": {},
   "source": [
    "## 1. 准备docker镜像"
   ]
  },
  {
   "cell_type": "markdown",
   "metadata": {},
   "source": [
    "拉取latest ubuntu镜像文件"
   ]
  },
  {
   "cell_type": "code",
   "execution_count": null,
   "metadata": {},
   "outputs": [],
   "source": [
    "docker pull ubuntu"
   ]
  },
  {
   "cell_type": "markdown",
   "metadata": {},
   "source": [
    "以拉取的latest ubuntu镜像文件运行一个容器，并将容器端口8888转发至主机端口8888"
   ]
  },
  {
   "cell_type": "code",
   "execution_count": null,
   "metadata": {},
   "outputs": [],
   "source": [
    "docker run -it -p8888:8888 ubuntu:latest bash"
   ]
  },
  {
   "cell_type": "markdown",
   "metadata": {},
   "source": [
    "在容器中安装文本编辑器nano"
   ]
  },
  {
   "cell_type": "code",
   "execution_count": null,
   "metadata": {},
   "outputs": [],
   "source": [
    "apt install nano"
   ]
  },
  {
   "cell_type": "markdown",
   "metadata": {},
   "source": [
    "替换国内源,将/etc/apt/sources.list替换为以下内容"
   ]
  },
  {
   "cell_type": "code",
   "execution_count": null,
   "metadata": {},
   "outputs": [],
   "source": [
    "deb https://mirrors.tuna.tsinghua.edu.cn/ubuntu/ bionic main restricted universe multiverse\n",
    "deb https://mirrors.tuna.tsinghua.edu.cn/ubuntu/ bionic-updates main restricted universe multiverse\n",
    "deb https://mirrors.tuna.tsinghua.edu.cn/ubuntu/ bionic-backports main restricted universe multiverse\n",
    "deb https://mirrors.tuna.tsinghua.edu.cn/ubuntu/ bionic-security main restricted universe multiverse\n",
    "deb https://mirrors.tuna.tsinghua.edu.cn/ubuntu/ bionic-proposed main restricted universe multiverse\n",
    "deb-src https://mirrors.tuna.tsinghua.edu.cn/ubuntu/ bionic main restricted universe multiverse\n",
    "deb-src https://mirrors.tuna.tsinghua.edu.cn/ubuntu/ bionic-updates main restricted universe multiverse\n",
    "deb-src https://mirrors.tuna.tsinghua.edu.cn/ubuntu/ bionic-backports main restricted universe multiverse\n",
    "deb-src https://mirrors.tuna.tsinghua.edu.cn/ubuntu/ bionic-security main restricted universe multiverse\n",
    "deb-src https://mirrors.tuna.tsinghua.edu.cn/ubuntu/ bionic-proposed main restricted universe multiverse\n",
    "deb http://mirrors.aliyun.com/ubuntu/ bionic main restricted universe multiverse\n",
    "deb http://mirrors.aliyun.com/ubuntu/ bionic-security main restricted universe multiverse\n",
    "deb http://mirrors.aliyun.com/ubuntu/ bionic-updates main restricted universe multiverse\n",
    "deb http://mirrors.aliyun.com/ubuntu/ bionic-proposed main restricted universe multiverse\n",
    "deb http://mirrors.aliyun.com/ubuntu/ bionic-backports main restricted universe multiverse\n",
    "deb-src http://mirrors.aliyun.com/ubuntu/ bionic main restricted universe multiverse\n",
    "deb-src http://mirrors.aliyun.com/ubuntu/ bionic-security main restricted universe multiverse\n",
    "deb-src http://mirrors.aliyun.com/ubuntu/ bionic-updates main restricted universe multiverse\n",
    "deb-src http://mirrors.aliyun.com/ubuntu/ bionic-proposed main restricted universe multiverse\n",
    "deb-src http://mirrors.aliyun.com/ubuntu/ bionic-backports main restricted universe multiverse"
   ]
  },
  {
   "cell_type": "markdown",
   "metadata": {},
   "source": [
    "安装ca-certificates和apt-transport-https使https源可用"
   ]
  },
  {
   "cell_type": "code",
   "execution_count": null,
   "metadata": {},
   "outputs": [],
   "source": [
    "apt install apt-transport-https & ca-certificates"
   ]
  },
  {
   "cell_type": "markdown",
   "metadata": {},
   "source": [
    "安装python3与pip3"
   ]
  },
  {
   "cell_type": "code",
   "execution_count": null,
   "metadata": {},
   "outputs": [],
   "source": [
    "apt install python3\n",
    "apt install python3-pip"
   ]
  },
  {
   "cell_type": "markdown",
   "metadata": {},
   "source": [
    "使用豆瓣pip源安装jupyterlab"
   ]
  },
  {
   "cell_type": "code",
   "execution_count": null,
   "metadata": {},
   "outputs": [],
   "source": [
    "pip3 install jupyterlab -i https://pypi.douban.com/simple/"
   ]
  },
  {
   "cell_type": "markdown",
   "metadata": {},
   "source": [
    "将容器保存为新的镜像"
   ]
  },
  {
   "cell_type": "code",
   "execution_count": null,
   "metadata": {},
   "outputs": [],
   "source": [
    "docker commit 容器ID 镜像名称"
   ]
  },
  {
   "cell_type": "markdown",
   "metadata": {},
   "source": [
    "## 2.运行jupyterlab"
   ]
  },
  {
   "cell_type": "markdown",
   "metadata": {},
   "source": [
    "容器运行镜像，并将宿主机目录挂载至容器tmp目录，以便于保存笔记内容"
   ]
  },
  {
   "cell_type": "code",
   "execution_count": null,
   "metadata": {},
   "outputs": [],
   "source": [
    "docker run -it -p8888:8888 -v /home/developer/Project/doc/:/tmp jupyterlab:latest bash"
   ]
  },
  {
   "cell_type": "markdown",
   "metadata": {},
   "source": [
    "执行完毕后，返回类似以下结果："
   ]
  },
  {
   "cell_type": "code",
   "execution_count": null,
   "metadata": {},
   "outputs": [],
   "source": [
    "[I 01:44:16.597 LabApp] JupyterLab extension loaded from /usr/local/lib/python3.6/dist-packages/jupyterlab\n",
    "[I 01:44:16.597 LabApp] JupyterLab application directory is /usr/local/share/jupyter/lab\n",
    "[I 01:44:17.120 LabApp] Serving notebooks from local directory: /\n",
    "[I 01:44:17.121 LabApp] The Jupyter Notebook is running at:\n",
    "[I 01:44:17.121 LabApp] http://d208d72639ae:8888/?token=878196a6cbdce998e5af8689b34a21c2820c2069e411b582\n",
    "[I 01:44:17.121 LabApp]  or http://127.0.0.1:8888/?token=878196a6cbdce998e5af8689b34a21c2820c2069e411b582\n",
    "[I 01:44:17.121 LabApp] Use Control-C to stop this server and shut down all kernels (twice to skip confirmation).\n",
    "[W 01:44:17.123 LabApp] No web browser found: could not locate runnable browser.\n",
    "[C 01:44:17.123 LabApp] \n",
    "    \n",
    "    To access the notebook, open this file in a browser:\n",
    "        file:///root/.local/share/jupyter/runtime/nbserver-15-open.html\n",
    "    Or copy and paste one of these URLs:\n",
    "        http://d208d72639ae:8888/?token=878196a6cbdce998e5af8689b34a21c2820c2069e411b582\n",
    "     or http://127.0.0.1:8888/?token=878196a6cbdce998e5af8689b34a21c2820c2069e411b582\n",
    "[I 01:44:33.239 LabApp] 302 GET /?token=878196a6cbdce998e5af8689b34a21c2820c2069e411b582 (172.17.0.1) 0.81ms"
   ]
  },
  {
   "cell_type": "markdown",
   "metadata": {},
   "source": [
    "根据返回的链接http://127.0.0.1:8888/?token=878196a6cbdce998e5af8689b34a21c2820c2069e411b582， 在宿主机中访问jupyterlab"
   ]
  },
  {
   "cell_type": "markdown",
   "metadata": {},
   "source": [
    "## 3.使用github同步数据"
   ]
  },
  {
   "cell_type": "markdown",
   "metadata": {},
   "source": [
    "在容器中安装jupyter-git，首先安装依赖库nodejs与npm"
   ]
  },
  {
   "cell_type": "markdown",
   "metadata": {},
   "source": [
    "apt install nodejs"
   ]
  },
  {
   "cell_type": "code",
   "execution_count": null,
   "metadata": {},
   "outputs": [],
   "source": [
    "apt install npm"
   ]
  },
  {
   "cell_type": "markdown",
   "metadata": {},
   "source": [
    "安装jupyterlab-git"
   ]
  },
  {
   "cell_type": "code",
   "execution_count": null,
   "metadata": {},
   "outputs": [],
   "source": [
    "pip3 install --upgrade jupyterlab-git -i https://pypi.doubanio.com/simple"
   ]
  },
  {
   "cell_type": "markdown",
   "metadata": {},
   "source": [
    "将jupyterlab-git扩展编译进jupyterlab"
   ]
  },
  {
   "cell_type": "code",
   "execution_count": null,
   "metadata": {},
   "outputs": [],
   "source": [
    "!jupyter lab build"
   ]
  },
  {
   "cell_type": "markdown",
   "metadata": {},
   "source": [
    "重新启动jupyter lab"
   ]
  },
  {
   "cell_type": "code",
   "execution_count": null,
   "metadata": {},
   "outputs": [],
   "source": [
    "jupyter lab --allow-root --ip=0.0.0.0 --port=8888"
   ]
  },
  {
   "cell_type": "markdown",
   "metadata": {},
   "source": [
    "在jupyterlab中打开terminal，配置git设置和秘钥"
   ]
  },
  {
   "cell_type": "code",
   "execution_count": null,
   "metadata": {},
   "outputs": [],
   "source": [
    "git config --global user.email \"you@example.com\"\n",
    "git config --global user.name \"Your Name\""
   ]
  },
  {
   "cell_type": "code",
   "execution_count": null,
   "metadata": {},
   "outputs": [],
   "source": [
    "ssh-keygen -t rsa -C \"you@example.com\""
   ]
  },
  {
   "cell_type": "markdown",
   "metadata": {},
   "source": [
    "将生成的.id_rsa.pub中内容拷贝至github中SSH Keys，并测试密钥是否生效："
   ]
  },
  {
   "cell_type": "code",
   "execution_count": 56,
   "metadata": {},
   "outputs": [
    {
     "name": "stdout",
     "output_type": "stream",
     "text": [
      "PTY allocation request failed on channel 0\n",
      "Hi iamgeniuswei! You've successfully authenticated, but GitHub does not provide shell access.\n",
      "Connection to github.com closed.\n"
     ]
    }
   ],
   "source": [
    "!ssh git@github.com"
   ]
  },
  {
   "cell_type": "markdown",
   "metadata": {},
   "source": [
    "配置成功后，即可按照常规github流程将notebook同步至github中。"
   ]
  }
 ],
 "metadata": {
  "kernelspec": {
   "display_name": "Python 3",
   "language": "python",
   "name": "python3"
  },
  "language_info": {
   "codemirror_mode": {
    "name": "ipython",
    "version": 3
   },
   "file_extension": ".py",
   "mimetype": "text/x-python",
   "name": "python",
   "nbconvert_exporter": "python",
   "pygments_lexer": "ipython3",
   "version": "3.6.9"
  }
 },
 "nbformat": 4,
 "nbformat_minor": 4
}
